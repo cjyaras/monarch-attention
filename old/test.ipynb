{
 "cells": [
  {
   "cell_type": "code",
   "execution_count": 13,
   "metadata": {},
   "outputs": [],
   "source": [
    "import jax\n",
    "import jax.numpy as jnp\n",
    "import jax.random as jr\n",
    "import opt_einsum as oe\n",
    "\n",
    "from einshape import jax_einshape as einshape\n",
    "\n",
    "Array = jax.Array"
   ]
  },
  {
   "cell_type": "code",
   "execution_count": 14,
   "metadata": {},
   "outputs": [],
   "source": [
    "def block(x):\n",
    "    return jax.tree.map(lambda x: x.block_until_ready(), x)"
   ]
  },
  {
   "cell_type": "code",
   "execution_count": 15,
   "metadata": {},
   "outputs": [],
   "source": [
    "b = m = 256\n",
    "n = b * b\n",
    "d = 64\n",
    "\n",
    "L = jr.normal(jr.key(0), (b, m, m))\n",
    "R = jr.normal(jr.key(1), (m, b, b))\n",
    "\n",
    "Q = jr.normal(jr.key(2), (n, d))\n",
    "K = jr.normal(jr.key(3), (n, d))"
   ]
  },
  {
   "cell_type": "code",
   "execution_count": 16,
   "metadata": {},
   "outputs": [
    {
     "name": "stdout",
     "output_type": "stream",
     "text": [
      "2148796000.0\n",
      "4297592000.0\n"
     ]
    }
   ],
   "source": [
    "def monarch_quadratic_2(L: Array, R: Array):\n",
    "    left = jnp.matmul(L.mT, L)\n",
    "    right = jnp.matmul(R, R.mT)\n",
    "    left = jax.vmap(jnp.diag)(left)\n",
    "    right = jax.vmap(jnp.diag)(right)\n",
    "    return jnp.sum(left * right.T)\n",
    "\n",
    "def monarch_quadratic(L: Array, R: Array):\n",
    "    Lhat = jnp.sum(L**2, axis=-2)\n",
    "    Rhat = jnp.sum(R**2, axis=-1)\n",
    "    return 1/2 * jnp.sum(Lhat * Rhat.T)\n",
    "\n",
    "def grad_monarch_quadratic(L: Array, R: Array):\n",
    "    Lhat = jnp.sum(L**2, axis=-2)\n",
    "    Rhat = jnp.sum(R**2, axis=-1)\n",
    "    dL = oe.contract(\"kj,jlk->jlk\", Rhat, L)\n",
    "    dR = oe.contract(\"jk,kji->kji\", Lhat, R)\n",
    "    return dL, dR\n",
    "\n",
    "print(monarch_quadratic(L, R))\n",
    "print(monarch_quadratic_2(L, R))\n",
    "# f1 = jax.jit(jax.grad(monarch_quadratic, argnums=(0, 1)))\n",
    "# f2 = jax.jit(grad_monarch_quadratic)\n",
    "\n",
    "# f1(L, R), f2(L, R)\n",
    "\n",
    "# %timeit block(f1(L, R))\n",
    "# %timeit block(f2(L, R))\n",
    "# jax.tree.map(lambda x, y: ;jnp.allclose(x, y), g1, g2)"
   ]
  },
  {
   "cell_type": "code",
   "execution_count": 9,
   "metadata": {},
   "outputs": [
    {
     "name": "stdout",
     "output_type": "stream",
     "text": [
      "66.2 ms ± 3.61 ms per loop (mean ± std. dev. of 7 runs, 10 loops each)\n",
      "66.1 ms ± 1.56 ms per loop (mean ± std. dev. of 7 runs, 10 loops each)\n"
     ]
    }
   ],
   "source": [
    "def monarch_linear(L: Array, R: Array, Q: Array, K: Array):\n",
    "    Q2d = einshape(\"(mb)d->mbd\", Q, b=b)\n",
    "    K2d = einshape(\"(mb)d->mbd\", K, b=b)\n",
    "    return -oe.contract(\"jlk,kji,lja,kia->\", L, R, Q2d, K2d)\n",
    "\n",
    "def grad_monarch_linear(L: Array, R: Array, Q: Array, K: Array):\n",
    "    Q2d = einshape(\"(mb)d->mbd\", Q, b=b)\n",
    "    K2d = einshape(\"(mb)d->mbd\", K, b=b)\n",
    "    dL = -oe.contract(\"kji,lja,kia->jlk\", R, Q2d, K2d)\n",
    "    dR = -oe.contract(\"jlk,lja,kia->kji\", L, Q2d, K2d)\n",
    "    return dL, dR\n",
    "\n",
    "f1 = jax.jit(jax.grad(monarch_linear, argnums=(0, 1)))\n",
    "f2 = jax.jit(grad_monarch_linear)\n",
    "\n",
    "f1(L, R, Q, K), f2(L, R, Q, K)\n",
    "\n",
    "%timeit block(f1(L, R, Q, K))\n",
    "%timeit block(f2(L, R, Q, K))"
   ]
  },
  {
   "cell_type": "code",
   "execution_count": null,
   "metadata": {},
   "outputs": [
    {
     "data": {
      "text/plain": [
       "Array(420566.6, dtype=float32)"
      ]
     },
     "execution_count": 118,
     "metadata": {},
     "output_type": "execute_result"
    }
   ],
   "source": [
    "monarch_linear_original(L, R, Q, K)"
   ]
  },
  {
   "cell_type": "code",
   "execution_count": null,
   "metadata": {},
   "outputs": [],
   "source": []
  }
 ],
 "metadata": {
  "kernelspec": {
   "display_name": ".venv",
   "language": "python",
   "name": "python3"
  },
  "language_info": {
   "codemirror_mode": {
    "name": "ipython",
    "version": 3
   },
   "file_extension": ".py",
   "mimetype": "text/x-python",
   "name": "python",
   "nbconvert_exporter": "python",
   "pygments_lexer": "ipython3",
   "version": "3.11.9"
  }
 },
 "nbformat": 4,
 "nbformat_minor": 2
}
