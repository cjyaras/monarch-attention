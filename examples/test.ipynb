{
 "cells": [
  {
   "cell_type": "code",
   "execution_count": 1,
   "metadata": {},
   "outputs": [
    {
     "name": "stderr",
     "output_type": "stream",
     "text": [
      "/Users/cjyaras/Desktop/soba/.venv/lib/python3.11/site-packages/tqdm/auto.py:21: TqdmWarning: IProgress not found. Please update jupyter and ipywidgets. See https://ipywidgets.readthedocs.io/en/stable/user_install.html\n",
      "  from .autonotebook import tqdm as notebook_tqdm\n"
     ]
    }
   ],
   "source": [
    "from roberta.models import CustomRobertaConfig, CustomRobertaForMaskedLM\n",
    "from transformers import RobertaTokenizer, pipeline"
   ]
  },
  {
   "cell_type": "code",
   "execution_count": 18,
   "metadata": {},
   "outputs": [],
   "source": [
    "tokenizer = RobertaTokenizer.from_pretrained(\"roberta-base\")\n",
    "use_sparsemax = True\n",
    "base_config = CustomRobertaConfig.from_pretrained(\"mtreviso/sparsemax-roberta\" if use_sparsemax else \"roberta-base\")"
   ]
  },
  {
   "cell_type": "code",
   "execution_count": 19,
   "metadata": {},
   "outputs": [
    {
     "name": "stderr",
     "output_type": "stream",
     "text": [
      "Some weights of the model checkpoint at mtreviso/sparsemax-roberta were not used when initializing CustomRobertaForMaskedLM: ['roberta.encoder.layer.0.attention.self.n_tokens', 'roberta.encoder.layer.0.attention.self.sparsity_per_head', 'roberta.encoder.layer.1.attention.self.n_tokens', 'roberta.encoder.layer.1.attention.self.sparsity_per_head', 'roberta.encoder.layer.10.attention.self.n_tokens', 'roberta.encoder.layer.10.attention.self.sparsity_per_head', 'roberta.encoder.layer.11.attention.self.n_tokens', 'roberta.encoder.layer.11.attention.self.sparsity_per_head', 'roberta.encoder.layer.2.attention.self.n_tokens', 'roberta.encoder.layer.2.attention.self.sparsity_per_head', 'roberta.encoder.layer.3.attention.self.n_tokens', 'roberta.encoder.layer.3.attention.self.sparsity_per_head', 'roberta.encoder.layer.4.attention.self.n_tokens', 'roberta.encoder.layer.4.attention.self.sparsity_per_head', 'roberta.encoder.layer.5.attention.self.n_tokens', 'roberta.encoder.layer.5.attention.self.sparsity_per_head', 'roberta.encoder.layer.6.attention.self.n_tokens', 'roberta.encoder.layer.6.attention.self.sparsity_per_head', 'roberta.encoder.layer.7.attention.self.n_tokens', 'roberta.encoder.layer.7.attention.self.sparsity_per_head', 'roberta.encoder.layer.8.attention.self.n_tokens', 'roberta.encoder.layer.8.attention.self.sparsity_per_head', 'roberta.encoder.layer.9.attention.self.n_tokens', 'roberta.encoder.layer.9.attention.self.sparsity_per_head']\n",
      "- This IS expected if you are initializing CustomRobertaForMaskedLM from the checkpoint of a model trained on another task or with another architecture (e.g. initializing a BertForSequenceClassification model from a BertForPreTraining model).\n",
      "- This IS NOT expected if you are initializing CustomRobertaForMaskedLM from the checkpoint of a model that you expect to be exactly identical (initializing a BertForSequenceClassification model from a BertForSequenceClassification model).\n",
      "Device set to use mps:0\n"
     ]
    },
    {
     "data": {
      "text/plain": [
       "[{'score': 0.5811822414398193,\n",
       "  'token': 44954,\n",
       "  'token_str': ' Enlightenment',\n",
       "  'sequence': \"Anarchism is a political philosophy and movement that is sceptical of authority and rejects all involuntary, coercive forms of hierarchy. Anarchism calls for the abolition of the state, which it holds to be unnecessary, undesirable, and harmful. As a historically left-wing movement, placed on the farthest left of the political spectrum, it is usually described alongside communalism and libertarian Marxism as the libertarian wing (libertarian socialism) of the socialist movement, and has a strong historical association with anti-capitalism and socialism.\\n\\nHumans lived in societies without formal hierarchies long before the establishment of formal states, realms, or empires. With the rise of organised hierarchical bodies, scepticism toward authority also rose. Although traces of anarchist thought are found throughout history, modern anarchism emerged from the Enlightenment. During the latter half of the 19th and the first decades of the 20th century, the anarchist movement flourished in most parts of the world and had a significant role in workers' struggles for emancipation. Various anarchist schools of thought formed during this period. Anarchists have taken part in several revolutions, most notably in the Paris Commune, the Russian Civil War and the Spanish Civil War, whose end marked the end of the classical era of anarchism. In the last decades of\"},\n",
       " {'score': 0.039362747222185135,\n",
       "  'token': 21841,\n",
       "  'token_str': ' shadows',\n",
       "  'sequence': \"Anarchism is a political philosophy and movement that is sceptical of authority and rejects all involuntary, coercive forms of hierarchy. Anarchism calls for the abolition of the state, which it holds to be unnecessary, undesirable, and harmful. As a historically left-wing movement, placed on the farthest left of the political spectrum, it is usually described alongside communalism and libertarian Marxism as the libertarian wing (libertarian socialism) of the socialist movement, and has a strong historical association with anti-capitalism and socialism.\\n\\nHumans lived in societies without formal hierarchies long before the establishment of formal states, realms, or empires. With the rise of organised hierarchical bodies, scepticism toward authority also rose. Although traces of anarchist thought are found throughout history, modern anarchism emerged from the shadows. During the latter half of the 19th and the first decades of the 20th century, the anarchist movement flourished in most parts of the world and had a significant role in workers' struggles for emancipation. Various anarchist schools of thought formed during this period. Anarchists have taken part in several revolutions, most notably in the Paris Commune, the Russian Civil War and the Spanish Civil War, whose end marked the end of the classical era of anarchism. In the last decades of\"},\n",
       " {'score': 0.032428789883852005,\n",
       "  'token': 2079,\n",
       "  'token_str': ' movement',\n",
       "  'sequence': \"Anarchism is a political philosophy and movement that is sceptical of authority and rejects all involuntary, coercive forms of hierarchy. Anarchism calls for the abolition of the state, which it holds to be unnecessary, undesirable, and harmful. As a historically left-wing movement, placed on the farthest left of the political spectrum, it is usually described alongside communalism and libertarian Marxism as the libertarian wing (libertarian socialism) of the socialist movement, and has a strong historical association with anti-capitalism and socialism.\\n\\nHumans lived in societies without formal hierarchies long before the establishment of formal states, realms, or empires. With the rise of organised hierarchical bodies, scepticism toward authority also rose. Although traces of anarchist thought are found throughout history, modern anarchism emerged from the movement. During the latter half of the 19th and the first decades of the 20th century, the anarchist movement flourished in most parts of the world and had a significant role in workers' struggles for emancipation. Various anarchist schools of thought formed during this period. Anarchists have taken part in several revolutions, most notably in the Paris Commune, the Russian Civil War and the Spanish Civil War, whose end marked the end of the classical era of anarchism. In the last decades of\"},\n",
       " {'score': 0.022272001951932907,\n",
       "  'token': 5442,\n",
       "  'token_str': ' latter',\n",
       "  'sequence': \"Anarchism is a political philosophy and movement that is sceptical of authority and rejects all involuntary, coercive forms of hierarchy. Anarchism calls for the abolition of the state, which it holds to be unnecessary, undesirable, and harmful. As a historically left-wing movement, placed on the farthest left of the political spectrum, it is usually described alongside communalism and libertarian Marxism as the libertarian wing (libertarian socialism) of the socialist movement, and has a strong historical association with anti-capitalism and socialism.\\n\\nHumans lived in societies without formal hierarchies long before the establishment of formal states, realms, or empires. With the rise of organised hierarchical bodies, scepticism toward authority also rose. Although traces of anarchist thought are found throughout history, modern anarchism emerged from the latter. During the latter half of the 19th and the first decades of the 20th century, the anarchist movement flourished in most parts of the world and had a significant role in workers' struggles for emancipation. Various anarchist schools of thought formed during this period. Anarchists have taken part in several revolutions, most notably in the Paris Commune, the Russian Civil War and the Spanish Civil War, whose end marked the end of the classical era of anarchism. In the last decades of\"},\n",
       " {'score': 0.017920974642038345,\n",
       "  'token': 3618,\n",
       "  'token_str': ' background',\n",
       "  'sequence': \"Anarchism is a political philosophy and movement that is sceptical of authority and rejects all involuntary, coercive forms of hierarchy. Anarchism calls for the abolition of the state, which it holds to be unnecessary, undesirable, and harmful. As a historically left-wing movement, placed on the farthest left of the political spectrum, it is usually described alongside communalism and libertarian Marxism as the libertarian wing (libertarian socialism) of the socialist movement, and has a strong historical association with anti-capitalism and socialism.\\n\\nHumans lived in societies without formal hierarchies long before the establishment of formal states, realms, or empires. With the rise of organised hierarchical bodies, scepticism toward authority also rose. Although traces of anarchist thought are found throughout history, modern anarchism emerged from the background. During the latter half of the 19th and the first decades of the 20th century, the anarchist movement flourished in most parts of the world and had a significant role in workers' struggles for emancipation. Various anarchist schools of thought formed during this period. Anarchists have taken part in several revolutions, most notably in the Paris Commune, the Russian Civil War and the Spanish Civil War, whose end marked the end of the classical era of anarchism. In the last decades of\"}]"
      ]
     },
     "execution_count": 19,
     "metadata": {},
     "output_type": "execute_result"
    }
   ],
   "source": [
    "config = CustomRobertaConfig.from_dict(base_config.to_dict())\n",
    "config.attention_type = \"sparsemax\" if use_sparsemax else \"softmax\"\n",
    "model = CustomRobertaForMaskedLM.from_pretrained(\"mtreviso/sparsemax-roberta\" if use_sparsemax else \"roberta-base\", config=config)\n",
    "\n",
    "unmasker = pipeline('fill-mask', model=model, tokenizer=tokenizer)\n",
    "\n",
    "with open(\"text.txt\", \"r\") as f:\n",
    "    text = f.read()\n",
    "unmasker(text)"
   ]
  },
  {
   "cell_type": "code",
   "execution_count": 21,
   "metadata": {},
   "outputs": [
    {
     "name": "stderr",
     "output_type": "stream",
     "text": [
      "Some weights of the model checkpoint at mtreviso/sparsemax-roberta were not used when initializing CustomRobertaForMaskedLM: ['roberta.encoder.layer.0.attention.self.n_tokens', 'roberta.encoder.layer.0.attention.self.sparsity_per_head', 'roberta.encoder.layer.1.attention.self.n_tokens', 'roberta.encoder.layer.1.attention.self.sparsity_per_head', 'roberta.encoder.layer.10.attention.self.n_tokens', 'roberta.encoder.layer.10.attention.self.sparsity_per_head', 'roberta.encoder.layer.11.attention.self.n_tokens', 'roberta.encoder.layer.11.attention.self.sparsity_per_head', 'roberta.encoder.layer.2.attention.self.n_tokens', 'roberta.encoder.layer.2.attention.self.sparsity_per_head', 'roberta.encoder.layer.3.attention.self.n_tokens', 'roberta.encoder.layer.3.attention.self.sparsity_per_head', 'roberta.encoder.layer.4.attention.self.n_tokens', 'roberta.encoder.layer.4.attention.self.sparsity_per_head', 'roberta.encoder.layer.5.attention.self.n_tokens', 'roberta.encoder.layer.5.attention.self.sparsity_per_head', 'roberta.encoder.layer.6.attention.self.n_tokens', 'roberta.encoder.layer.6.attention.self.sparsity_per_head', 'roberta.encoder.layer.7.attention.self.n_tokens', 'roberta.encoder.layer.7.attention.self.sparsity_per_head', 'roberta.encoder.layer.8.attention.self.n_tokens', 'roberta.encoder.layer.8.attention.self.sparsity_per_head', 'roberta.encoder.layer.9.attention.self.n_tokens', 'roberta.encoder.layer.9.attention.self.sparsity_per_head']\n",
      "- This IS expected if you are initializing CustomRobertaForMaskedLM from the checkpoint of a model trained on another task or with another architecture (e.g. initializing a BertForSequenceClassification model from a BertForPreTraining model).\n",
      "- This IS NOT expected if you are initializing CustomRobertaForMaskedLM from the checkpoint of a model that you expect to be exactly identical (initializing a BertForSequenceClassification model from a BertForSequenceClassification model).\n",
      "Device set to use mps:0\n"
     ]
    },
    {
     "data": {
      "text/plain": [
       "[{'score': 0.09675780683755875,\n",
       "  'token': 44954,\n",
       "  'token_str': ' Enlightenment',\n",
       "  'sequence': \"Anarchism is a political philosophy and movement that is sceptical of authority and rejects all involuntary, coercive forms of hierarchy. Anarchism calls for the abolition of the state, which it holds to be unnecessary, undesirable, and harmful. As a historically left-wing movement, placed on the farthest left of the political spectrum, it is usually described alongside communalism and libertarian Marxism as the libertarian wing (libertarian socialism) of the socialist movement, and has a strong historical association with anti-capitalism and socialism.\\n\\nHumans lived in societies without formal hierarchies long before the establishment of formal states, realms, or empires. With the rise of organised hierarchical bodies, scepticism toward authority also rose. Although traces of anarchist thought are found throughout history, modern anarchism emerged from the Enlightenment. During the latter half of the 19th and the first decades of the 20th century, the anarchist movement flourished in most parts of the world and had a significant role in workers' struggles for emancipation. Various anarchist schools of thought formed during this period. Anarchists have taken part in several revolutions, most notably in the Paris Commune, the Russian Civil War and the Spanish Civil War, whose end marked the end of the classical era of anarchism. In the last decades of\"},\n",
       " {'score': 0.055381085723638535,\n",
       "  'token': 5442,\n",
       "  'token_str': ' latter',\n",
       "  'sequence': \"Anarchism is a political philosophy and movement that is sceptical of authority and rejects all involuntary, coercive forms of hierarchy. Anarchism calls for the abolition of the state, which it holds to be unnecessary, undesirable, and harmful. As a historically left-wing movement, placed on the farthest left of the political spectrum, it is usually described alongside communalism and libertarian Marxism as the libertarian wing (libertarian socialism) of the socialist movement, and has a strong historical association with anti-capitalism and socialism.\\n\\nHumans lived in societies without formal hierarchies long before the establishment of formal states, realms, or empires. With the rise of organised hierarchical bodies, scepticism toward authority also rose. Although traces of anarchist thought are found throughout history, modern anarchism emerged from the latter. During the latter half of the 19th and the first decades of the 20th century, the anarchist movement flourished in most parts of the world and had a significant role in workers' struggles for emancipation. Various anarchist schools of thought formed during this period. Anarchists have taken part in several revolutions, most notably in the Paris Commune, the Russian Civil War and the Spanish Civil War, whose end marked the end of the classical era of anarchism. In the last decades of\"},\n",
       " {'score': 0.04212636500597,\n",
       "  'token': 24936,\n",
       "  'token_str': ' ashes',\n",
       "  'sequence': \"Anarchism is a political philosophy and movement that is sceptical of authority and rejects all involuntary, coercive forms of hierarchy. Anarchism calls for the abolition of the state, which it holds to be unnecessary, undesirable, and harmful. As a historically left-wing movement, placed on the farthest left of the political spectrum, it is usually described alongside communalism and libertarian Marxism as the libertarian wing (libertarian socialism) of the socialist movement, and has a strong historical association with anti-capitalism and socialism.\\n\\nHumans lived in societies without formal hierarchies long before the establishment of formal states, realms, or empires. With the rise of organised hierarchical bodies, scepticism toward authority also rose. Although traces of anarchist thought are found throughout history, modern anarchism emerged from the ashes. During the latter half of the 19th and the first decades of the 20th century, the anarchist movement flourished in most parts of the world and had a significant role in workers' struggles for emancipation. Various anarchist schools of thought formed during this period. Anarchists have taken part in several revolutions, most notably in the Paris Commune, the Russian Civil War and the Spanish Civil War, whose end marked the end of the classical era of anarchism. In the last decades of\"},\n",
       " {'score': 0.035429734736680984,\n",
       "  'token': 21841,\n",
       "  'token_str': ' shadows',\n",
       "  'sequence': \"Anarchism is a political philosophy and movement that is sceptical of authority and rejects all involuntary, coercive forms of hierarchy. Anarchism calls for the abolition of the state, which it holds to be unnecessary, undesirable, and harmful. As a historically left-wing movement, placed on the farthest left of the political spectrum, it is usually described alongside communalism and libertarian Marxism as the libertarian wing (libertarian socialism) of the socialist movement, and has a strong historical association with anti-capitalism and socialism.\\n\\nHumans lived in societies without formal hierarchies long before the establishment of formal states, realms, or empires. With the rise of organised hierarchical bodies, scepticism toward authority also rose. Although traces of anarchist thought are found throughout history, modern anarchism emerged from the shadows. During the latter half of the 19th and the first decades of the 20th century, the anarchist movement flourished in most parts of the world and had a significant role in workers' struggles for emancipation. Various anarchist schools of thought formed during this period. Anarchists have taken part in several revolutions, most notably in the Paris Commune, the Russian Civil War and the Spanish Civil War, whose end marked the end of the classical era of anarchism. In the last decades of\"},\n",
       " {'score': 0.03361387923359871,\n",
       "  'token': 78,\n",
       "  'token_str': ' first',\n",
       "  'sequence': \"Anarchism is a political philosophy and movement that is sceptical of authority and rejects all involuntary, coercive forms of hierarchy. Anarchism calls for the abolition of the state, which it holds to be unnecessary, undesirable, and harmful. As a historically left-wing movement, placed on the farthest left of the political spectrum, it is usually described alongside communalism and libertarian Marxism as the libertarian wing (libertarian socialism) of the socialist movement, and has a strong historical association with anti-capitalism and socialism.\\n\\nHumans lived in societies without formal hierarchies long before the establishment of formal states, realms, or empires. With the rise of organised hierarchical bodies, scepticism toward authority also rose. Although traces of anarchist thought are found throughout history, modern anarchism emerged from the first. During the latter half of the 19th and the first decades of the 20th century, the anarchist movement flourished in most parts of the world and had a significant role in workers' struggles for emancipation. Various anarchist schools of thought formed during this period. Anarchists have taken part in several revolutions, most notably in the Paris Commune, the Russian Civil War and the Spanish Civil War, whose end marked the end of the classical era of anarchism. In the last decades of\"}]"
      ]
     },
     "execution_count": 21,
     "metadata": {},
     "output_type": "execute_result"
    }
   ],
   "source": [
    "config = CustomRobertaConfig.from_dict(base_config.to_dict())\n",
    "config.attention_type = \"monarch\"\n",
    "config.efficient_attention_num_steps = 10\n",
    "config.efficient_attention_step_size = 8e4\n",
    "config.efficient_attention_block_size = 16\n",
    "config.efficient_attention_pad_type = \"post\"\n",
    "model = CustomRobertaForMaskedLM.from_pretrained(\"mtreviso/sparsemax-roberta\", config=config)\n",
    "\n",
    "unmasker = pipeline('fill-mask', model=model, tokenizer=tokenizer)\n",
    "\n",
    "with open(\"text.txt\", \"r\") as f:\n",
    "    text = f.read()\n",
    "unmasker(text)"
   ]
  },
  {
   "cell_type": "code",
   "execution_count": null,
   "metadata": {},
   "outputs": [],
   "source": []
  }
 ],
 "metadata": {
  "kernelspec": {
   "display_name": ".venv",
   "language": "python",
   "name": "python3"
  },
  "language_info": {
   "codemirror_mode": {
    "name": "ipython",
    "version": 3
   },
   "file_extension": ".py",
   "mimetype": "text/x-python",
   "name": "python",
   "nbconvert_exporter": "python",
   "pygments_lexer": "ipython3",
   "version": "3.11.9"
  }
 },
 "nbformat": 4,
 "nbformat_minor": 2
}
